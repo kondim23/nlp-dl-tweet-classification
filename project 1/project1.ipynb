{
 "cells": [
  {
   "cell_type": "markdown",
   "metadata": {
    "id": "BCf3hY90BiT-"
   },
   "source": [
    "# Tweet Classification with Classical Machine Learning\n",
    "\n",
    "This notebook demonstrates a scalable pipeline for tweet classification using classical machine learning. The workflow covers data preprocessing, feature engineering, model selection, hyperparameter optimization, and evaluation, with a focus on reproducibility and modularity.\n",
    "\n",
    "> **Note:** This notebook was originally developed in `project1.ipynb` and has been refactored for professinal review."
   ]
  },
  {
   "cell_type": "markdown",
   "metadata": {
    "id": "R0VofeZuCOrz"
   },
   "source": [
    "## Final Model Overview\n",
    "\n",
    "The following cells define the model pipeline, including dataset configuration, feature engineering, preprocessing, vectorization, model training, and evaluation. All steps are modular and reproducible."
   ]
  },
  {
   "cell_type": "markdown",
   "metadata": {
    "id": "pMHQFXz2Dfb8"
   },
   "source": [
    "### Preparation\n",
    "\n",
    "This section sets up the environment and defines dataset paths for modularity and reproducibility."
   ]
  },
  {
   "cell_type": "code",
   "execution_count": null,
   "metadata": {
    "id": "pP3JKEYa_FtH"
   },
   "outputs": [],
   "source": [
    "import pandas\n",
    "import numpy as np\n",
    "from sklearn.model_selection import cross_val_score, PredefinedSplit\n",
    "from sklearn import metrics\n",
    "from sklearn.feature_extraction.text import CountVectorizer\n",
    "from sklearn.linear_model import LogisticRegression\n",
    "from sklearn.feature_extraction.text import TfidfVectorizer\n",
    "from sklearn.linear_model import LogisticRegression\n",
    "from sklearn.model_selection import learning_curve\n",
    "import matplotlib.pyplot as plt\n",
    "from sklearn.feature_extraction.text import HashingVectorizer\n",
    "import re\n",
    "from nltk.stem import WordNetLemmatizer\n",
    "import nltk\n",
    "from nltk.corpus import stopwords\n",
    "from scipy.sparse import vstack,hstack\n",
    "from collections import Counter\n",
    "from sklearn.decomposition import PCA\n",
    "\n",
    "nltk.download('wordnet')\n",
    "nltk.download('stopwords')\n",
    "nltk.download('averaged_perceptron_tagger')\n",
    "\n",
    "#Paths to datasets\n",
    "\n",
    "training_set_path = \"drive/MyDrive/AI2_project1/vaccine_train_set.csv\"\n",
    "validation_set_path = \"drive/MyDrive/AI2_project1/vaccine_validation_set.csv\""
   ]
  },
  {
   "cell_type": "markdown",
   "metadata": {
    "id": "YORWxvCsDXwE"
   },
   "source": [
    "### Feature Extraction\n",
    "\n",
    "Defines all feature engineering functions used to enrich the dataset with statistical and linguistic features, supporting improved model performance."
   ]
  },
  {
   "cell_type": "code",
   "execution_count": null,
   "metadata": {
    "colab": {
     "base_uri": "https://localhost:8080/"
    },
    "id": "gB2mYWc4fD9n",
    "outputId": "801b6831-a614-4094-842c-9ec5ca65e31a"
   },
   "outputs": [
    {
     "name": "stdout",
     "output_type": "stream",
     "text": [
      "[nltk_data] Downloading package wordnet to /root/nltk_data...\n",
      "[nltk_data]   Package wordnet is already up-to-date!\n",
      "[nltk_data] Downloading package stopwords to /root/nltk_data...\n",
      "[nltk_data]   Package stopwords is already up-to-date!\n",
      "[nltk_data] Downloading package averaged_perceptron_tagger to\n",
      "[nltk_data]     /root/nltk_data...\n",
      "[nltk_data]   Package averaged_perceptron_tagger is already up-to-\n",
      "[nltk_data]       date!\n"
     ]
    }
   ],
   "source": [
    "#adds new features to given dataframe\n",
    "def feature_extraction(df):\n",
    "  count_chars(df)\n",
    "  count_words(df)\n",
    "  # count_capital_chars(df)\n",
    "  # count_capital_words(df)\n",
    "  # count_punctuations(df)\n",
    "  # count_htags(df)\n",
    "  # count_mentions(df)\n",
    "  count_stopwords(df)\n",
    "  count_unique_words(df)\n",
    "  unique_word_freq(df)\n",
    "  stop_words_freq(df)\n",
    "  avg_word_length(df)\n",
    "  freq_pos(df)\n",
    "\n",
    "#all feature-extraction functions\n",
    "\n",
    "def count_chars(df):\n",
    "  df['count_chars'] = df['tweet'].apply(lambda x: len(x))\n",
    "\n",
    "def count_words(df):\n",
    "  df['count_words'] = df['tweet'].apply(lambda x: len(x.split()))\n",
    "\n",
    "def count_capital_chars(df):\n",
    "  df['count_capital_chars'] = df['tweet'].apply(lambda x: len([i for i in x if i.isupper()]))\n",
    "\n",
    "def count_capital_words(df):\n",
    "  df['count_capital_words'] = df['tweet'].apply(lambda x: sum(map(str.isupper,x.split())))\n",
    "\n",
    "def count_punctuations(df):\n",
    "  punct='!\"#$%&\\'()*+,-./:;<=>?@[\\]^_`{|}~'\n",
    "  df['count_punctuations'] = df['tweet'].apply(lambda x: len([i for i in x if i in punct]))\n",
    "\n",
    "def count_htags(df):\n",
    "  df['count_htags'] = df['tweet'].apply(lambda x: len([re.findall(r'(#[A-Za-z0-9]*)', x)]))\n",
    "\n",
    "def count_mentions(df):\n",
    "  df['count_mentions'] = df['tweet'].apply(lambda x: len([re.findall(r'(@[A-Za-z0-9]*)', x)]))\n",
    "\n",
    "def count_stopwords(df):\n",
    "  stop = set(stopwords.words('english'))\n",
    "  df['count_stopwords'] = df['tweet'].apply(lambda x: len([w for w in x.split() if w in stop]))\n",
    "\n",
    "def count_unique_words(df):\n",
    "  df['count_unique_words'] = df['tweet'].apply(lambda x: len(set(x.split())))\n",
    "\n",
    "def unique_word_freq(df):\n",
    "  df['unique_word_freq'] = df['count_unique_words']/df['count_words']\n",
    "\n",
    "def stop_words_freq(df):\n",
    "  df['stop_words_freq'] = df['count_stopwords']/df['count_words']\n",
    "  \n",
    "def avg_word_length(df):\n",
    "  df['avg_word_length'] = df['count_chars']/df['count_words']\n",
    "\n",
    "#adds 4 new columns holding frequency of nouns, verbs, adverbs, adjectives \n",
    "def freq_pos(df):\n",
    "  all_tags = ['VB','NN','JJ','RB']\n",
    "  df_tags=pandas.DataFrame(np.zeros((df.shape[0],4)),columns=all_tags)\n",
    "  i=0\n",
    "  for tweet in df['tweet']:\n",
    "    tags_int_tweet=nltk.pos_tag(tweet.split())\n",
    "    tags_counter=list(zip(Counter(tag[1] for tag in tags_int_tweet).keys(),Counter(tag[1] for tag in tags_int_tweet).values()))\n",
    "    for tagtype in tags_counter:\n",
    "      for tag in all_tags:\n",
    "        if tag in tagtype[0]:\n",
    "          df_tags.loc[i,tag]=tagtype[1]/(len(tags_int_tweet)+1);\n",
    "    i+=1\n",
    "  for tag in all_tags:\n",
    "    df[tag] = df_tags[tag]\n"
   ]
  },
  {
   "cell_type": "markdown",
   "metadata": {},
   "source": [
    "### Data Preprocessing"
   ]
  },
  {
   "cell_type": "code",
   "execution_count": null,
   "metadata": {},
   "outputs": [],
   "source": [
    "#transforms the data of given dataframe\n",
    "def data_preprocessing(df):\n",
    "  remove_links(df)\n",
    "  # remove_hashtags(df)\n",
    "  # remove_mentions(df)\n",
    "  # remove_non_alpha(df)\n",
    "  to_lowercase(df)\n",
    "  lemmatize(df)\n",
    "  remove_stop_words(df)\n",
    "\n",
    "def remove_links(df):\n",
    "  df.update(df.apply(lambda x: re.sub(r'(https?:\\/\\/[A-Za-z0-9\\/.]*)|(bit.ly\\/[A-Za-z0-9\\/.]*)', '', x, flags=re.MULTILINE)))\n",
    "\n",
    "def remove_non_alpha(df):\n",
    "  df.update(df.apply(lambda x: re.sub(r'[^ a-zA-Z]', ' ', x, flags=re.MULTILINE)))\n",
    "\n",
    "def to_lowercase(df):\n",
    "  df.update(df.apply(lambda x: x.lower()))\n",
    "\n",
    "def lemmatize(df):\n",
    "  lemmatizer = WordNetLemmatizer() \n",
    "  df.update(df.apply(lambda x: ' '.join([lemmatizer.lemmatize(word) for word in x.split()])))\n",
    "\n",
    "def remove_stop_words(df):\n",
    "  stop = set(stopwords.words('english'))\n",
    "  df.update(df.apply(lambda x: ' '.join([word for word in x.split() if word not in (stop)])))\n",
    "\n",
    "def remove_hashtags(df):\n",
    "  df.update(df.apply(lambda x: re.sub(r'(#[A-Za-z0-9]*)', '',x, flags=re.MULTILINE)))\n",
    "\n",
    "def remove_mentions(df):\n",
    "  df.update(df.apply(lambda x: re.sub(r'(@[A-Za-z0-9]*)', '',x, flags=re.MULTILINE)))"
   ]
  },
  {
   "cell_type": "markdown",
   "metadata": {},
   "source": [
    "### Utilities"
   ]
  },
  {
   "cell_type": "code",
   "execution_count": null,
   "metadata": {},
   "outputs": [],
   "source": [
    "#returns a dataframe holding precision,recall,f1,accurasy scores\n",
    "#test on training and validation sets\n",
    "def get_scores(trainTrue,trainPred,validationTrue,validationPred):\n",
    "\n",
    "  scores={}\n",
    "  scores['set']=[]\n",
    "  scores['precision']=[]\n",
    "  scores['f1']=[]\n",
    "  scores['recall']=[]\n",
    "  scores['accuracy']=[]\n",
    "\n",
    "  scores['set'].append('Training')\n",
    "  scores['precision'].append(metrics.precision_score(trainTrue,trainPred,average='weighted',zero_division=0))\n",
    "  scores['f1'].append(metrics.f1_score(trainTrue,trainPred,average='weighted',zero_division=0))\n",
    "  scores['recall'].append(metrics.recall_score(trainTrue,trainPred,average='weighted',zero_division=0))\n",
    "  scores['accuracy'].append(metrics.accuracy_score(trainTrue,trainPred))\n",
    "\n",
    "  scores['set'].append('Validation')\n",
    "  scores['precision'].append(metrics.precision_score(validationTrue,validationPred,average='weighted',zero_division=0))\n",
    "  scores['f1'].append(metrics.f1_score(validationTrue,validationPred,average='weighted',zero_division=0))\n",
    "  scores['recall'].append(metrics.recall_score(validationTrue,validationPred,average='weighted',zero_division=0))\n",
    "  scores['accuracy'].append(metrics.accuracy_score(validationTrue,validationPred))\n",
    "\n",
    "  return  pandas.DataFrame(data=scores).set_index('set')\n",
    "\n",
    "#fit - transform of vectorizer\n",
    "def vectorize(vectorizer,data_train,data_validation):\n",
    "  return pandas.DataFrame(vectorizer.fit_transform(data_train).toarray()),pandas.DataFrame(vectorizer.transform(data_validation).toarray())\n",
    "\n",
    "#plots the learning curve\n",
    "def f1_learning_curve(X_train, Y_train, X_validation, Y_validation, spots=10):\n",
    "\n",
    "  #an array of training set sizes to be evaluated  \n",
    "  ts = np.append(np.arange(0,X_train.shape[0],step=X_train.shape[0]/10,dtype=int)[1:],X_train.shape[0])\n",
    "\n",
    "  #an array of indices that indicate training and validation set \n",
    "  test_fold = np.append(np.full(X_train.shape[0],-1),np.zeros(X_validation.shape[0]))\n",
    "  ps = PredefinedSplit(test_fold).split()\n",
    "\n",
    "  #calling lerning_curve with predifined split and train sizes\n",
    "  train_sizes, train_scores, test_scores = learning_curve(\n",
    "      clf, vstack((X_train,X_validation)), np.append(Y_train,Y_validation),\n",
    "      cv=ps, n_jobs=-1, scoring=\"f1_weighted\", train_sizes=ts, shuffle=True\n",
    "  )\n",
    "  \n",
    "  train_scores_mean = np.mean(train_scores, axis=1)\n",
    "  train_scores_std = np.std(train_scores, axis=1)\n",
    "  test_scores_mean = np.mean(test_scores, axis=1)\n",
    "  test_scores_std = np.std(test_scores, axis=1)\n",
    "\n",
    "  # Plot learning curve\n",
    "  plt.grid()\n",
    "  plt.title(\"Learning curve Result\")\n",
    "  plt.xlabel(\"Training size\")\n",
    "  plt.ylabel(\"f1 score\")\n",
    "  plt.fill_between(\n",
    "      train_sizes,\n",
    "      train_scores_mean - train_scores_std,\n",
    "      train_scores_mean + train_scores_std,\n",
    "      alpha=0.1,\n",
    "      color=\"r\",\n",
    "  )\n",
    "  plt.fill_between(\n",
    "      train_sizes,\n",
    "      test_scores_mean - test_scores_std,\n",
    "      test_scores_mean + test_scores_std,\n",
    "      alpha=0.1,\n",
    "      color=\"g\",\n",
    "  )\n",
    "  plt.plot(\n",
    "      train_sizes, train_scores_mean, \"o-\", color=\"r\", label=\"Training score\"\n",
    "  )\n",
    "  plt.plot(\n",
    "      train_sizes, test_scores_mean, \"o-\", color=\"g\", label=\"Validation score\"\n",
    "  )\n",
    "  plt.legend(loc=\"best\")\n",
    "  plt.show()\n",
    "\n",
    "def display_results(X_train, Y_train, X_validation, Y_validation, Pred_train, Pred_validation):\n",
    "  display(get_scores(Y_train,Pred_train,Y_validation,Pred_validation))\n",
    "  f1_learning_curve(X_train, Y_train, X_validation, Y_validation);"
   ]
  },
  {
   "cell_type": "markdown",
   "metadata": {
    "id": "JikJxL1DF5dZ"
   },
   "source": [
    "### Pipeline Execution\n",
    "\n",
    "Executes the end-to-end pipeline: data import, feature engineering, preprocessing, vectorization, model training, prediction, and evaluation. Results are visualized for both training and validation sets."
   ]
  },
  {
   "cell_type": "code",
   "execution_count": 9,
   "metadata": {
    "colab": {
     "base_uri": "https://localhost:8080/",
     "height": 525
    },
    "id": "z259ZCO582vs",
    "outputId": "fa80e195-c43b-4c3d-b3d5-bd67c9220368"
   },
   "outputs": [
    {
     "name": "stderr",
     "output_type": "stream",
     "text": [
      "/usr/local/lib/python3.7/dist-packages/sklearn/utils/validation.py:1679: FutureWarning: Feature names only support names that are all strings. Got feature names with dtypes: ['int', 'str']. An error will be raised in 1.2.\n",
      "  FutureWarning,\n",
      "/usr/local/lib/python3.7/dist-packages/sklearn/utils/validation.py:1679: FutureWarning: Feature names only support names that are all strings. Got feature names with dtypes: ['int', 'str']. An error will be raised in 1.2.\n",
      "  FutureWarning,\n",
      "/usr/local/lib/python3.7/dist-packages/sklearn/utils/validation.py:1679: FutureWarning: Feature names only support names that are all strings. Got feature names with dtypes: ['int', 'str']. An error will be raised in 1.2.\n",
      "  FutureWarning,\n"
     ]
    },
    {
     "data": {
      "text/html": [
       "<div>\n",
       "<style scoped>\n",
       "    .dataframe tbody tr th:only-of-type {\n",
       "        vertical-align: middle;\n",
       "    }\n",
       "\n",
       "    .dataframe tbody tr th {\n",
       "        vertical-align: top;\n",
       "    }\n",
       "\n",
       "    .dataframe thead th {\n",
       "        text-align: right;\n",
       "    }\n",
       "</style>\n",
       "<table border=\"1\" class=\"dataframe\">\n",
       "  <thead>\n",
       "    <tr style=\"text-align: right;\">\n",
       "      <th></th>\n",
       "      <th>precision</th>\n",
       "      <th>f1</th>\n",
       "      <th>recall</th>\n",
       "      <th>accuracy</th>\n",
       "    </tr>\n",
       "    <tr>\n",
       "      <th>set</th>\n",
       "      <th></th>\n",
       "      <th></th>\n",
       "      <th></th>\n",
       "      <th></th>\n",
       "    </tr>\n",
       "  </thead>\n",
       "  <tbody>\n",
       "    <tr>\n",
       "      <th>Training</th>\n",
       "      <td>0.680184</td>\n",
       "      <td>0.678775</td>\n",
       "      <td>0.692288</td>\n",
       "      <td>0.692288</td>\n",
       "    </tr>\n",
       "    <tr>\n",
       "      <th>Validation</th>\n",
       "      <td>0.673559</td>\n",
       "      <td>0.672845</td>\n",
       "      <td>0.686678</td>\n",
       "      <td>0.686678</td>\n",
       "    </tr>\n",
       "  </tbody>\n",
       "</table>\n",
       "</div>"
      ],
      "text/plain": [
       "            precision        f1    recall  accuracy\n",
       "set                                                \n",
       "Training     0.680184  0.678775  0.692288  0.692288\n",
       "Validation   0.673559  0.672845  0.686678  0.686678"
      ]
     },
     "metadata": {},
     "output_type": "display_data"
    },
    {
     "data": {
      "image/png": "[encoded data removed]",
      "text/plain": [
       "<Figure size 432x288 with 1 Axes>"
      ]
     },
     "metadata": {
      "needs_background": "light"
     },
     "output_type": "display_data"
    }
   ],
   "source": [
    "#importing datasets\n",
    "\n",
    "train = pandas.read_csv(training_set_path,usecols=['tweet','label'])\n",
    "validation = pandas.read_csv(validation_set_path,usecols=['tweet','label'])\n",
    "\n",
    "\n",
    "#add new features based on data\n",
    "\n",
    "feature_extraction(train)\n",
    "feature_extraction(validation)\n",
    "\n",
    "\n",
    "#data preprocessing\n",
    "\n",
    "data_preprocessing(train['tweet'])\n",
    "data_preprocessing(validation['tweet'])\n",
    "\n",
    "\n",
    "#vectorize data\n",
    "\n",
    "vectorizer = TfidfVectorizer(min_df=0.01,max_df=0.4,ngram_range=(1,5),max_features=1000)\n",
    "X_train, X_validation = vectorize(vectorizer,train['tweet'],validation['tweet'])\n",
    "Y_train, Y_validation = train['label'], validation['label']\n",
    "\n",
    "\n",
    "#extracted_features holds the column-names to be merged with tf-idf array\n",
    "\n",
    "extracted_features = list(train.columns)\n",
    "extracted_features.remove('tweet')\n",
    "extracted_features.remove('label')\n",
    "extracted_features.remove('count_words')\n",
    "extracted_features.remove('count_stopwords')\n",
    "extracted_features.remove('count_unique_words')\n",
    "extracted_features.remove('count_chars')\n",
    "\n",
    "\n",
    "#merging tf-idf array with the new extracted features\n",
    "#will raise a future warning of merging a dataframe (column index type int)\n",
    "#with a dataframe (column index type str)\n",
    "#That does not affect the model as the model uses only the interior of the array\n",
    "X_train = pandas.merge(X_train,train[extracted_features],left_index=True, right_index=True)\n",
    "X_validation = pandas.merge(X_validation,validation[extracted_features],left_index=True, right_index=True)\n",
    "\n",
    "\n",
    "#initialize model and fit data\n",
    "\n",
    "clf = LogisticRegression(multi_class='multinomial',n_jobs=-1, penalty='l2',solver='newton-cg',C=100)\n",
    "clf.fit(X_train,Y_train)\n",
    "\n",
    "\n",
    "#Get predictions\n",
    "\n",
    "Pred_train = clf.predict(X_train)\n",
    "Pred_validation = clf.predict(X_validation)\n",
    "\n",
    "\n",
    "#display the results\n",
    "\n",
    "display_results(X_train, Y_train, X_validation, Y_validation, Pred_train, Pred_validation)"
   ]
  },
  {
   "cell_type": "markdown",
   "metadata": {
    "id": "94JJnrDLHW-5"
   },
   "source": [
    "## Additional Material for Experiments\n",
    "\n",
    "This section documents supplementary experiments, utility functions, and supporting material used during model development. These are not part of the final production pipeline but provide valuable insights for further research or deployment."
   ]
  },
  {
   "cell_type": "markdown",
   "metadata": {
    "id": "ekWbOXpkNH4i"
   },
   "source": [
    "#### Error Analysis: display_false_predictions\n",
    "\n",
    "Outputs the tweet text, true class, and predicted class for each misclassified example, supporting detailed error analysis and model debugging."
   ]
  },
  {
   "cell_type": "code",
   "execution_count": null,
   "metadata": {
    "id": "_XpA5V5-M0Y9"
   },
   "outputs": [],
   "source": [
    "#displays the data , true and predicted class of every wrong classified tweet\n",
    "\n",
    "def display_false_predictions(data,Y,Pred,X):\n",
    "  for i in range(X.shape[0]):\n",
    "    if (Y[i]!=Pred[i]):\n",
    "      print('data:\\n',data[i])\n",
    "      # print('X:\\n',X[i])\n",
    "      print('True:\\n',Y[i])\n",
    "      print('Prediction:\\n',Pred[i])"
   ]
  },
  {
   "cell_type": "markdown",
   "metadata": {
    "id": "SXkINgakNepG"
   },
   "source": [
    "#### Different Parameter Combinations for Softmax Regression"
   ]
  },
  {
   "cell_type": "code",
   "execution_count": null,
   "metadata": {
    "id": "e3MgtFBkM2WO"
   },
   "outputs": [],
   "source": [
    "#all the combinations tried for vectorizers\n",
    "\n",
    "vectorizer = TfidfVectorizer()\n",
    "vectorizer = TfidfVectorizer(min_df=0.01,max_df=0.99,ngram_range=(1,5),max_features=1000,smooth_idf=True,norm='l2',sublinear_tf=True,use_idf=False)\n",
    "vectorizer = TfidfVectorizer(min_df=0.01,max_df=0.4,ngram_range=(1,5),max_features=1000)\n",
    "vectorizer = TfidfVectorizer(max_features=5000)\n",
    "vectorizer = TfidfVectorizer(norm='l2',use_idf=True,smooth_idf=False,sublinear_tf=True, lowercase=True)\n",
    "vectorizer = CountVectorizer()\n",
    "vectorizer = CountVectorizer(min_df=0.01,max_df=0.4,ngram_range=(1,5),max_features=1000)\n",
    "vectorizer = CountVectorizer(lowercase=True,stop_words='english',min_df=0.2,binary=False)\n",
    "vectorizer = CountVectorizer(lowercase=False,stop_words='english',binary=False)\n",
    "vectorizer = CountVectorizer(lowercase=True,stop_words='english',binary=False,ngram_range=(1,2))\n",
    "vectorizer = HashingVectorizer()\n",
    "vectorizer = HashingVectorizer(ngram_range=(1,5))\n",
    "vectorizer = HashingVectorizer(n_features=2**12)"
   ]
  },
  {
   "cell_type": "markdown",
   "metadata": {
    "id": "B0lZfyV1NreC"
   },
   "source": [
    "### PCA for Dimensionality Reduction\n",
    "\n",
    "Principal Component Analysis (PCA) was evaluated for dimensionality reduction. However, it led to reduced performance and was not included in the final pipeline."
   ]
  },
  {
   "cell_type": "code",
   "execution_count": null,
   "metadata": {
    "id": "UdZRiKUPM4fC"
   },
   "outputs": [],
   "source": [
    "#dimensionality reduction (having bad metric results)\n",
    "\n",
    "\n",
    "pca = PCA(n_components=100)\n",
    "X_train = pandas.DataFrame(pca.fit_transform(X_train))\n",
    "X_validation = pandas.DataFrame(pca.fit_transform(X_validation))"
   ]
  },
  {
   "cell_type": "markdown",
   "metadata": {
    "id": "RpS8N54MOE3j"
   },
   "source": [
    "#### GridSearchCV\n",
    "\n",
    "Used to find the optimal parameters for softmax regression.\n",
    "\n",
    "The final parameters are:\n",
    "\n",
    "**C**: 100\n",
    "\n",
    "**penalty**: l2\n",
    "\n",
    "**solver**: newton-cg"
   ]
  },
  {
   "cell_type": "code",
   "execution_count": null,
   "metadata": {
    "id": "pk6UCbRIM7hI"
   },
   "outputs": [],
   "source": [
    "# GridSearchCV indicated best results\n",
    "#C: 100 -  penalty: l2 - solver: newton-cg \n",
    "\n",
    "from sklearn.model_selection import GridSearchCV\n",
    "model = LogisticRegression(multi_class='multinomial',n_jobs=-1)\n",
    "ts = np.append(np.arange(0,X_train.shape[0],step=X_train.shape[0]/10,dtype=int)[1:],X_train.shape[0])\n",
    "test_fold = np.append(np.full(X_train.shape[0],-1),np.zeros(X_validation.shape[0]))\n",
    "ps = PredefinedSplit(test_fold).split()\n",
    "space = [\n",
    "         {\n",
    "             'penalty':['l2','none'],\n",
    "          'solver':['lbfgs','newton-cg','saga','sag'],\n",
    "          'C':[1e-5, 1e-4, 1e-3, 1e-2, 1e-1, 1, 10, 100]\n",
    "          },\n",
    "         {\n",
    "             'penalty':['l1','none'],\n",
    "          'solver':['saga'],\n",
    "          'C':[1e-5, 1e-4, 1e-3, 1e-2, 1e-1, 1, 10, 100]\n",
    "          },\n",
    "         {\n",
    "             'penalty':['elasticnet','none'],\n",
    "          'l1_ratio':[0.5],\n",
    "          'solver':['saga'],\n",
    "          'C':[1e-5, 1e-4, 1e-3, 1e-2, 1e-1, 1, 10, 100]\n",
    "          }\n",
    "]\n",
    "search = GridSearchCV(model, space, scoring='accuracy', n_jobs=-1, cv=ps)\n",
    "result = search.fit(vstack((X_train,X_validation)),np.append(Y_train,Y_validation))\n",
    "print('Best Score: %s' % result.best_score_)\n",
    "print('Best Hyperparameters: %s' % result.best_params_)"
   ]
  },
  {
   "cell_type": "markdown",
   "metadata": {
    "id": "ihLacuz4Opan"
   },
   "source": [
    "#### Different Combinations of Parameters for Softmax Regression"
   ]
  },
  {
   "cell_type": "code",
   "execution_count": null,
   "metadata": {
    "id": "O4V0H_mrM9aw"
   },
   "outputs": [],
   "source": [
    "#all different combinations for parameter tuning tried on softmax regression\n",
    "\n",
    "clf = LogisticRegression(multi_class='multinomial',n_jobs=-1,C=result.best_params_['C'],\n",
    "                         class_weight=result.best_params_['class_weight'],\n",
    "                         penalty=result.best_params_['penalty='],solver=result.best_params_['solver'])\n",
    "clf = LogisticRegression(multi_class='multinomial',n_jobs=-1,max_iter=100,class_weight='balanced')\n",
    "clf = LogisticRegression(multi_class='multinomial',n_jobs=-1,max_iter=100)\n",
    "\n",
    "\n",
    "display_false_predictions(train['tweet'],train['label'],Pred_train,X_train)\n",
    "print('--------------------------------------------------------')\n",
    "display_false_predictions(validation['tweet'],validation['label'],Pred_validation,X_validation)"
   ]
  }
 ],
 "metadata": {
  "colab": {
   "collapsed_sections": [],
   "name": "AI2_project1.ipynb",
   "provenance": []
  },
  "kernelspec": {
   "display_name": "Python 3",
   "name": "python3"
  },
  "language_info": {
   "name": "python"
  }
 },
 "nbformat": 4,
 "nbformat_minor": 0
}
